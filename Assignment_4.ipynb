{
 "cells": [
  {
   "cell_type": "markdown",
   "id": "25d8d2ed",
   "metadata": {},
   "source": [
    "# Certified Python Programming Online Course by Jawan Pakistan\n",
    "## Roll No: JP13443\n"
   ]
  },
  {
   "cell_type": "markdown",
   "id": "ee376af0",
   "metadata": {},
   "source": [
    "# Name : Muhammad Zubair Minhas\n",
    "### ASSIGNMENT NO # 4:\n",
    "## Task # 1"
   ]
  },
  {
   "cell_type": "markdown",
   "id": "01a29459",
   "metadata": {},
   "source": [
    "Make a calculator using Python  with addition , subtraction ,multiplication ,division and power."
   ]
  },
  {
   "cell_type": "code",
   "execution_count": 12,
   "id": "e5e9d401",
   "metadata": {},
   "outputs": [
    {
     "name": "stdout",
     "output_type": "stream",
     "text": [
      "++++++++++++++++++++++++++++++++++++WELCOME TO MY CALCULATOR+++++++++++++++++++++++++++++++++++++++\n",
      "Select Operation  1).Addition(+) 2).Subtraction(-) 3).Multiplication(*) 4).Float Division(/) 5).Integer Division(//)  6).Power(^) 7).Modolus(%)\n",
      "Select Operation Number:7\n",
      "Enter First Number :12\n",
      "Enter Second Number :5\n",
      "********************************\n",
      "You Select  Power  operation\n",
      "Your Result Integer Division of  12 % 5 is : 2\n"
     ]
    }
   ],
   "source": [
    "print(\"++++++++++++++++++++++++++++++++++++WELCOME TO MY CALCULATOR+++++++++++++++++++++++++++++++++++++++\")\n",
    "print(\"Select Operation  1).Addition(+) 2).Subtraction(-) 3).Multiplication(*) 4).Float Division(/) 5).Integer Division(//)  6).Power(^) 7).Modolus(%)\")\n",
    "select=int(input(\"Select Operation Number:\"))\n",
    "if(select>=1 and select <=7 ):\n",
    "    n1=int(input(\"Enter First Number :\"))\n",
    "    n2=int(input(\"Enter Second Number :\"))\n",
    "    if(select==1):\n",
    "        print(\"********************************\")\n",
    "        print(\"You Select Addition operation\")\n",
    "        print(\"Your Result Addition of \",n1,\"+\",n2,\"is :\",(n1+n2))\n",
    "        \n",
    "    elif(select==2):\n",
    "        print(\"********************************\")\n",
    "        print(\"You Select Subtraction operation\")\n",
    "        print(\"Your Result Subtraction of \",n1,\"-\",n2,\"is :\",(n1-n2))\n",
    "        \n",
    "    elif(select==3):\n",
    "        print(\"********************************\")\n",
    "        print(\"You Select Multiplication operation\")\n",
    "        print(\"Your Result Multiplication of \",n1,\"*\",n2,\"is :\",(n1*n2))\n",
    "        \n",
    "    elif(select==4):\n",
    "        print(\"********************************\")\n",
    "        print(\"You Select Float Division operation\")\n",
    "        print(\"Your Result Float Division of \",n1,\"/\",n2,\"is :\",(n1/n2))\n",
    "        \n",
    "    elif(select==5):\n",
    "        print(\"********************************\")\n",
    "        print(\"You Select  Integer Division operation\")\n",
    "        print(\"Your Result Integer Division of \",n1,\"%\",n2,\"is :\",(n1//n2))   \n",
    "        \n",
    "    elif(select==6):\n",
    "        print(\"********************************\")\n",
    "        print(\"You Select  Power  operation\")\n",
    "        print(\"Your Result Integer Division of \",n1,\"^\",n2,\"is :\",(n1**n2)) \n",
    "        \n",
    "    elif(select==7):\n",
    "        print(\"********************************\")\n",
    "        print(\"You Select  Power  operation\")\n",
    "        print(\"Your Result Integer Division of \",n1,\"%\",n2,\"is :\",(n1%n2))  \n",
    "    \n",
    "else:\n",
    "        print(\"********************************\")\n",
    "        print(\"You Select Incorrect Operation Plz Try Again\")"
   ]
  },
  {
   "cell_type": "markdown",
   "id": "f24efb50",
   "metadata": {},
   "source": [
    "# Task # 2"
   ]
  },
  {
   "cell_type": "markdown",
   "id": "6da3ec93",
   "metadata": {},
   "source": [
    "Write a program to check if there is any numeric value in list using for loop."
   ]
  },
  {
   "cell_type": "code",
   "execution_count": 22,
   "id": "57d9bf39",
   "metadata": {},
   "outputs": [
    {
     "name": "stdout",
     "output_type": "stream",
     "text": [
      "Numeric Value Present In List ==>\n",
      "Numeric Value => [45, 67, 56]\n",
      "Numeric Value Index => [1, 4, 6]\n"
     ]
    }
   ],
   "source": [
    "list1 = [\"asad\",45,\"Zubair\",\"Jawan Pakistan\",67,True,56]\n",
    "list2_num_ind = []\n",
    "list2_ind = []\n",
    "p = 0\n",
    "for i in range(0,len(list1)):\n",
    "    if(type(list1[i])==int):\n",
    "        p = 1\n",
    "        list2_num_ind.append(list1[i])\n",
    "        list2_ind.append(i)\n",
    "        \n",
    "if(p!=0):\n",
    "    print(\"Numeric Value Present In List ==>\")\n",
    "    print(\"Numeric Value =>\",list2_num_ind)\n",
    "    print(\"Numeric Value Index =>\",list2_ind)\n",
    "\n",
    "else :\n",
    "      print(\"Numeric Value Not  Present In List  ==>\")\n",
    "    \n",
    "    \n",
    "        \n",
    "       "
   ]
  },
  {
   "cell_type": "code",
   "execution_count": 23,
   "id": "781e1691",
   "metadata": {},
   "outputs": [
    {
     "name": "stdout",
     "output_type": "stream",
     "text": [
      "Numeric Value Not  Present In List  ==>\n"
     ]
    }
   ],
   "source": [
    "list1 = [\"asad\",\"Zubair\",\"Jawan Pakistan\",True,False,\"Thanks\"]\n",
    "list2_num_ind = []\n",
    "list2_ind = []\n",
    "p = 0\n",
    "for i in range(0,len(list1)):\n",
    "    if(type(list1[i])==int):\n",
    "        p = 1\n",
    "        list2_num_ind.append(list1[i])\n",
    "        list2_ind.append(i)\n",
    "        \n",
    "if(p!=0):\n",
    "    print(\"Numeric Value Present In List ==>\")\n",
    "    print(\"Numeric Value =>\",list2_num_ind)\n",
    "    print(\"Numeric Value Index =>\",list2_ind)\n",
    "\n",
    "else :\n",
    "      print(\"Numeric Value Not  Present In List  ==>\")"
   ]
  },
  {
   "cell_type": "markdown",
   "id": "9fc4bf56",
   "metadata": {},
   "source": [
    "# Task # 3"
   ]
  },
  {
   "cell_type": "markdown",
   "id": "4e68d009",
   "metadata": {},
   "source": [
    "Write a Python script to add a key to a dictionary."
   ]
  },
  {
   "cell_type": "code",
   "execution_count": 31,
   "id": "8259d307",
   "metadata": {},
   "outputs": [
    {
     "name": "stdout",
     "output_type": "stream",
     "text": [
      "{'name': 'Muhammad Zubair Minhas', 'Course': ['Python', 'React/React Native', 'Flutter', 'Data Science'], 'eductaion': 'BSC', 'Address': 'Shami Line'}\n"
     ]
    }
   ],
   "source": [
    "obj = {\"name\" : \"Muhammad Zubair Minhas\",\"Course\": [\"Python\",\"React/React Native\",\"Flutter\",\"Data Science\"]}\n",
    "\n",
    "obj[\"eductaion\"]=\"BSC\"\n",
    "\n",
    "obj.update({\"Address\":\"Shami Line\"})\n",
    "\n",
    "\n",
    "print(obj)"
   ]
  },
  {
   "cell_type": "markdown",
   "id": "a23770bf",
   "metadata": {},
   "source": [
    "# Task # 4"
   ]
  },
  {
   "cell_type": "markdown",
   "id": "a281ba27",
   "metadata": {},
   "source": [
    "Write a Python program to sum all the numeric items in a dictionary."
   ]
  },
  {
   "cell_type": "code",
   "execution_count": 43,
   "id": "d0fc99a7",
   "metadata": {},
   "outputs": [
    {
     "name": "stdout",
     "output_type": "stream",
     "text": [
      "sum all the numeric items in a dictionary  1030\n"
     ]
    }
   ],
   "source": [
    "dic = {\n",
    "    \"name\" : \"Muhammad Zubair Minhas\",\n",
    "    \"Course\":\"Flutter\",\n",
    "    \"s1\":100,\n",
    "    \"s2\":130,\n",
    "    \"s3\":200,\n",
    "    \"s4\":200,\n",
    "    \"d5\":400,\n",
    "    \"eductaion\":\"BSC\"}\n",
    "\n",
    "res = 0\n",
    "for x, y in dic.items():\n",
    "    if(type(y)==int):\n",
    "        res +=y\n",
    "        \n",
    "\n",
    "print(\"sum all the numeric items in a dictionary \",res)\n"
   ]
  },
  {
   "cell_type": "markdown",
   "id": "9b2d177e",
   "metadata": {},
   "source": [
    "\n",
    "\n",
    "# Task # 5"
   ]
  },
  {
   "cell_type": "markdown",
   "id": "b78b8177",
   "metadata": {},
   "source": [
    " Write a program to identify duplicate values from list."
   ]
  },
  {
   "cell_type": "code",
   "execution_count": 53,
   "id": "be22bdfb",
   "metadata": {},
   "outputs": [
    {
     "name": "stdout",
     "output_type": "stream",
     "text": [
      "Duplicate values in list :  [98, 56, 78, 45, 102]\n"
     ]
    }
   ],
   "source": [
    "list1 = [10,98,2,56,78,45,45,34,102,67,56,78,98,65,102]\n",
    "list2_dup = []\n",
    "for i in range(0,len(list1)):\n",
    "    for j in range(i+1,len(list1)):\n",
    "        if(list1[i]==list1[j]):\n",
    "           list2_dup.append(list1[i])\n",
    "        \n",
    "print(\"Duplicate values in list : \",list2_dup)\n"
   ]
  },
  {
   "cell_type": "markdown",
   "id": "30931a84",
   "metadata": {},
   "source": [
    "\n",
    "# Task # 6"
   ]
  },
  {
   "cell_type": "markdown",
   "id": "8a927a7d",
   "metadata": {},
   "source": [
    "Write a Python script to check if a given key already exists in a dictionary"
   ]
  },
  {
   "cell_type": "code",
   "execution_count": 56,
   "id": "d7c22ee2",
   "metadata": {},
   "outputs": [
    {
     "name": "stdout",
     "output_type": "stream",
     "text": [
      "eductaion  as Key is not present in the dictionary\n",
      "Course as Key is present in the dictionary\n"
     ]
    }
   ],
   "source": [
    "obj = {\"name\" : \"Muhammad Zubair Minhas\",\"Course\": [\"Python\",\"React/React Native\",\"Flutter\",\"Data Science\"]}\n",
    "\n",
    "def keychk(key):\n",
    "  if key in obj :\n",
    "      print(key,'as Key is present in the dictionary')\n",
    "        \n",
    "  else:\n",
    "      print(key ,' as Key is not present in the dictionary')\n",
    " \n",
    "keychk(\"eductaion\")\n",
    "keychk(\"Course\")\n"
   ]
  },
  {
   "cell_type": "code",
   "execution_count": null,
   "id": "06969350",
   "metadata": {},
   "outputs": [],
   "source": []
  }
 ],
 "metadata": {
  "kernelspec": {
   "display_name": "Python 3",
   "language": "python",
   "name": "python3"
  },
  "language_info": {
   "codemirror_mode": {
    "name": "ipython",
    "version": 3
   },
   "file_extension": ".py",
   "mimetype": "text/x-python",
   "name": "python",
   "nbconvert_exporter": "python",
   "pygments_lexer": "ipython3",
   "version": "3.8.8"
  }
 },
 "nbformat": 4,
 "nbformat_minor": 5
}
