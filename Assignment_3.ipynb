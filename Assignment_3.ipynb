{
 "cells": [
  {
   "cell_type": "markdown",
   "id": "b254f1ae",
   "metadata": {},
   "source": [
    "# Certified Python Programming Online Course by Jawan Pakistan\n"
   ]
  },
  {
   "cell_type": "markdown",
   "id": "7876b90b",
   "metadata": {},
   "source": [
    "## Roll No: JP13443"
   ]
  },
  {
   "cell_type": "markdown",
   "id": "3ee0be18",
   "metadata": {},
   "source": [
    "### Name :  Muhammad Zubair Minhas"
   ]
  },
  {
   "cell_type": "markdown",
   "id": "d48c2afb",
   "metadata": {},
   "source": [
    "# ASSIGNMENT NO # 3:"
   ]
  },
  {
   "cell_type": "markdown",
   "id": "4c927b19",
   "metadata": {},
   "source": [
    "### Task # 1"
   ]
  },
  {
   "cell_type": "markdown",
   "id": "f7000d63",
   "metadata": {},
   "source": [
    "1. Write a Python program to print the following string in a specific format (see the\n",
    "output).\n",
    "\n",
    "    Twinkle, twinkle, little star,\n",
    "        How I wonder what you are!\n",
    "            Up above the world so high,\n",
    "            Like a diamond in the sky.\n",
    "\n",
    "    Twinkle, twinkle, little star,\n",
    "        How I wonder what you are"
   ]
  },
  {
   "cell_type": "code",
   "execution_count": 16,
   "id": "6f8c1e22",
   "metadata": {},
   "outputs": [
    {
     "name": "stdout",
     "output_type": "stream",
     "text": [
      "OUTPUT :\n",
      "\tTwinkle,  twinkle,  little  star,\n",
      "\t\tHow  I  Wonder  What You  are !\n",
      "\t\t\t Up above the world so high, \n",
      "\t\t\t Like a diamond in the sky.\n",
      "\n",
      "\tTwinkle,  twinkle,  little  star,\n",
      "\t\t How  I  Wonder  What You  are  \n"
     ]
    }
   ],
   "source": [
    "print(\"OUTPUT :\")\n",
    "#CODE:\n",
    "print(\"\\tTwinkle,  twinkle,  little  star,\\n\\t\\tHow  I  Wonder  What You  are !\\n\\t\\t\\t Up above the world so high, \\n\\t\\t\\t Like a diamond in the sky.\\n\\n\\tTwinkle,  twinkle,  little  star,\\n\\t\\t How  I  Wonder  What You  are  \")"
   ]
  },
  {
   "cell_type": "markdown",
   "id": "39499604",
   "metadata": {},
   "source": [
    "# Task # 2"
   ]
  },
  {
   "cell_type": "markdown",
   "id": "fb4b71dd",
   "metadata": {},
   "source": [
    "2. Write a Python program to get the Python version you are using"
   ]
  },
  {
   "cell_type": "code",
   "execution_count": 29,
   "id": "3fd687e1",
   "metadata": {},
   "outputs": [
    {
     "name": "stdout",
     "output_type": "stream",
     "text": [
      "OUTPUT :\n",
      "\tPython Version : 3.8.8 (default, Apr 13 2021, 15:08:03) [MSC v.1916 64 bit (AMD64)]\n"
     ]
    }
   ],
   "source": [
    "print(\"OUTPUT :\")\n",
    "#CODE:\n",
    "import sys\n",
    "ver = sys.version\n",
    "print(f\"\\tPython Version : {ver}\")"
   ]
  },
  {
   "cell_type": "markdown",
   "id": "64879cb1",
   "metadata": {},
   "source": [
    "# Task # 3"
   ]
  },
  {
   "cell_type": "markdown",
   "id": "045e9dbd",
   "metadata": {},
   "source": [
    "3. Write a Python program to display the current date and time."
   ]
  },
  {
   "cell_type": "code",
   "execution_count": 26,
   "id": "75e563bd",
   "metadata": {},
   "outputs": [
    {
     "name": "stdout",
     "output_type": "stream",
     "text": [
      "OUTPUT :\n",
      "\tCurrent Date And Time: \t2021-10-21 22:57:47.685867\n"
     ]
    }
   ],
   "source": [
    "print(\"OUTPUT :\")\n",
    "#CODE:\n",
    "import datetime\n",
    "today= datetime.datetime.now()\n",
    "print(f\"\\tCurrent Date And Time: \\t{today}\")"
   ]
  },
  {
   "cell_type": "markdown",
   "id": "3beb11bc",
   "metadata": {},
   "source": [
    "# Task # 4"
   ]
  },
  {
   "cell_type": "markdown",
   "id": "1763b223",
   "metadata": {},
   "source": [
    "4. Write a Python program which accepts the radius of a circle from the user and compute\n",
    "the area."
   ]
  },
  {
   "cell_type": "code",
   "execution_count": 23,
   "id": "c8532be3",
   "metadata": {},
   "outputs": [
    {
     "name": "stdout",
     "output_type": "stream",
     "text": [
      "OUTPUT :\n",
      "\tEnter The Radius To Find The Area:23\n",
      "\tRadius is : 23 \n",
      "\tArea is :72.22\n"
     ]
    }
   ],
   "source": [
    "print(\"OUTPUT :\")\n",
    "#CODE:\n",
    "radius=int(input(\"\\tEnter The Radius To Find The Area:\"))\n",
    "pi=3.14\n",
    "Area=radius*pi\n",
    "print(f\"\\tRadius is : {radius} \\n\\tArea is :{Area}\")"
   ]
  },
  {
   "cell_type": "markdown",
   "id": "952652e1",
   "metadata": {},
   "source": [
    "# Task # 5"
   ]
  },
  {
   "cell_type": "markdown",
   "id": "299df0f6",
   "metadata": {},
   "source": [
    "5. Write a Python program which accepts the user's first and last name and print them in\n",
    "reverse order with a space between them."
   ]
  },
  {
   "cell_type": "code",
   "execution_count": 32,
   "id": "06a95fb9",
   "metadata": {},
   "outputs": [
    {
     "name": "stdout",
     "output_type": "stream",
     "text": [
      "OUTPUT :\n",
      "\tEnter The First Name :Muhammad Zubair\n",
      "\tEnter The Last Name :Minhas\n",
      "\tThe User Name is  :  Muhammad Zubair Minhas\n",
      "\tThe User Name in Reverse Order:  sahniM riabuZ dammahuM\n"
     ]
    }
   ],
   "source": [
    "print(\"OUTPUT :\")\n",
    "#CODE:\n",
    "First_Name=input(\"\\tEnter The First Name :\")\n",
    "Last_Name=input(\"\\tEnter The Last Name :\")\n",
    "Full_Name=First_Name+\" \"+Last_Name\n",
    "print(\"\\tThe User Name is  : \",Full_Name)\n",
    "print(\"\\tThe User Name in Reverse Order: \",Full_Name[::-1])"
   ]
  },
  {
   "cell_type": "markdown",
   "id": "17d56af8",
   "metadata": {},
   "source": [
    "# Task # 6"
   ]
  },
  {
   "cell_type": "markdown",
   "id": "a844f8ad",
   "metadata": {},
   "source": [
    "6. Write a python program which takes two inputs from user and print them addition"
   ]
  },
  {
   "cell_type": "code",
   "execution_count": 34,
   "id": "12034c6a",
   "metadata": {},
   "outputs": [
    {
     "name": "stdout",
     "output_type": "stream",
     "text": [
      "OUTPUT :\n",
      "\tEnter The Value of First Number :3\n",
      "\tEnter The Value Of Second Number :4\n",
      "\tThe Addition of 3 and 4 is : 7\n"
     ]
    }
   ],
   "source": [
    "print(\"OUTPUT :\")\n",
    "#CODE:\n",
    "a=int(input(\"\\tEnter The Value of First Number :\"))\n",
    "b=int(input(\"\\tEnter The Value Of Second Number :\"))\n",
    "c=a+b\n",
    "print(f\"\\tThe Addition of {a} and {b} is : {c}\")"
   ]
  },
  {
   "cell_type": "markdown",
   "id": "c00a270a",
   "metadata": {},
   "source": [
    "# Task # 7"
   ]
  },
  {
   "cell_type": "markdown",
   "id": "b096879d",
   "metadata": {},
   "source": [
    "7. Write a program which takes 5 inputs from user for different subject’s marks, total it\n",
    "and generate mark sheet using grades ?"
   ]
  },
  {
   "cell_type": "code",
   "execution_count": 37,
   "id": "006bfefe",
   "metadata": {},
   "outputs": [
    {
     "name": "stdout",
     "output_type": "stream",
     "text": [
      "OUTPUT :\n",
      "\tEnter Student Name :Muhammad Zubair \n",
      "\tEnter First Subject Marks :45\n",
      "\tEnter Second Subject Marks :65\n",
      "\tEnter Third Subject Marks :76\n",
      "\tEnter Fourth Subject Marks :68\n",
      "\tEnter Fifth Subject Marks :67\n",
      "\n",
      "********************Marksheet of Muhammad Zubair ********************\n",
      "\n",
      "\t\tFirst Subject Mark :45\n",
      "\t\tSecond Subject Mark :65\n",
      "\t\tThird Subject Mark :76\n",
      "\t\tFourth Subject Mark :68\n",
      "\t\tFifth Subject Mark :67\n",
      "\t\tTotal Marks :  500\n",
      "\t\tObtainted Marks : 321\n",
      "\t\tPercentage : 64.2\n",
      "\t\t PASS \n",
      "\t\tGrade :B+ \n"
     ]
    }
   ],
   "source": [
    "print(\"OUTPUT :\")\n",
    "#CODE:\n",
    "name = input(\"\\tEnter Student Name :\")\n",
    "a1 = int(input(\"\\tEnter First Subject Marks :\"))\n",
    "a2 = int(input(\"\\tEnter Second Subject Marks :\"))\n",
    "a3 = int(input(\"\\tEnter Third Subject Marks :\"))\n",
    "a4 = int(input(\"\\tEnter Fourth Subject Marks :\"))\n",
    "a5 = int(input(\"\\tEnter Fifth Subject Marks :\"))\n",
    "tmark = 500\n",
    "tsum = a1+a2+a3+a4+a5\n",
    "per = (tsum*100/tmark)\n",
    "\n",
    "print(f\"\\n********************Marksheet of {name}********************\\n\")\n",
    "print(f\"\\t\\tFirst Subject Mark :{a1}\\n\\t\\tSecond Subject Mark :{a2}\\n\\t\\tThird Subject Mark :{a3}\\n\\t\\tFourth Subject Mark :{a4}\\n\\t\\tFifth Subject Mark :{a5}\")\n",
    "print(\"\\t\\tTotal Marks :  500\")\n",
    "print(f\"\\t\\tObtainted Marks : {tsum}\")\n",
    "print(f\"\\t\\tPercentage : {per}\")\n",
    "\n",
    "if(per>80):\n",
    "    print(\"\\t\\t PASS \")\n",
    "    print(\"\\t\\tGrade :A +\")\n",
    "\n",
    "elif(per<80 and per >70):\n",
    "    print(\"\\t\\t PASS \")\n",
    "    print(\"\\t\\tGrade :A \")\n",
    "\n",
    "elif(per<70 and per >60):\n",
    "    print(\"\\t\\t PASS \")\n",
    "    print(\"\\t\\tGrade :B+ \")\n",
    "\n",
    "elif(per<70 and per >60):\n",
    "    print(\"\\t\\t PASS \")\n",
    "    print(\"\\t\\tGrade :B \")\n",
    "\n",
    "elif(per<60 and per >50):\n",
    "    print(\"\\t\\t PASS \")\n",
    "    print(\"\\t\\tGrade :C \")\n",
    "\n",
    "elif(per<50 and per >40):\n",
    "    print(\"\\t\\t PASS \")\n",
    "    print(\"\\t\\tGrade :D\")\n",
    "\n",
    "else:\n",
    "    print(\"\\t\\t FAIL \")"
   ]
  },
  {
   "cell_type": "markdown",
   "id": "d5209052",
   "metadata": {},
   "source": [
    "# Task # 8"
   ]
  },
  {
   "cell_type": "markdown",
   "id": "5f8c8205",
   "metadata": {},
   "source": [
    "8. Write a program which take input from user and identify that the given number is even\n",
    "or odd?"
   ]
  },
  {
   "cell_type": "code",
   "execution_count": 39,
   "id": "84d35458",
   "metadata": {},
   "outputs": [
    {
     "name": "stdout",
     "output_type": "stream",
     "text": [
      "OUTPUT :\n",
      "\tEnter a number :23\n",
      "\t23 Is Odd Number\n"
     ]
    }
   ],
   "source": [
    "print(\"OUTPUT :\")\n",
    "#CODE:\n",
    "num = int(input(\"\\tEnter a number :\"))\n",
    "c=num%2\n",
    "if(c==0):\n",
    "    print(f\"\\t{num} Is Even Number\")\n",
    "else:\n",
    "    print(f\"\\t{num} Is Odd Number\")\n",
    "    "
   ]
  },
  {
   "cell_type": "code",
   "execution_count": 40,
   "id": "fa97a3c4",
   "metadata": {},
   "outputs": [
    {
     "name": "stdout",
     "output_type": "stream",
     "text": [
      "OUTPUT :\n",
      "\tEnter a number :16\n",
      "\t16 Is Even Number\n"
     ]
    }
   ],
   "source": [
    "print(\"OUTPUT :\")\n",
    "#CODE:\n",
    "num = int(input(\"\\tEnter a number :\"))\n",
    "c=num%2\n",
    "if(c==0):\n",
    "    print(f\"\\t{num} Is Even Number\")\n",
    "else:\n",
    "    print(f\"\\t{num} Is Odd Number\")"
   ]
  },
  {
   "cell_type": "markdown",
   "id": "27367234",
   "metadata": {},
   "source": [
    "# Task # 9"
   ]
  },
  {
   "cell_type": "markdown",
   "id": "4db5e717",
   "metadata": {},
   "source": [
    "9. Write a program which print the length of the list?"
   ]
  },
  {
   "cell_type": "code",
   "execution_count": 44,
   "id": "b5dce72b",
   "metadata": {},
   "outputs": [
    {
     "name": "stdout",
     "output_type": "stream",
     "text": [
      "OUTPUT :\n",
      "\t List is : [1, 2, 3, 4, 5, 6, 7, 8, 9, 11, 14, 56, 34]\n",
      "\tlength of list : 13\n"
     ]
    }
   ],
   "source": [
    "print(\"OUTPUT :\")\n",
    "#CODE:\n",
    "A=[1,2,3,4,5,6,7,8,9,11,14,56,34]\n",
    "print(f\"\\t List is : {A}\")\n",
    "print(\"\\tlength of list :\",len(A))"
   ]
  },
  {
   "cell_type": "markdown",
   "id": "0ba65122",
   "metadata": {},
   "source": [
    "# Task # 10"
   ]
  },
  {
   "cell_type": "markdown",
   "id": "5a246b61",
   "metadata": {},
   "source": [
    "10.Write a Python program to sum all the numeric items in a list?"
   ]
  },
  {
   "cell_type": "code",
   "execution_count": 50,
   "id": "e6d331c1",
   "metadata": {},
   "outputs": [
    {
     "name": "stdout",
     "output_type": "stream",
     "text": [
      "OUTPUT :\n",
      "\t List :  [1, 3, 4, 6, 2, 7, 9, 10, 15]\n",
      "\t The Sum Of All Value IN List A :  57\n"
     ]
    }
   ],
   "source": [
    "print(\"OUTPUT :\")\n",
    "#CODE:\n",
    "A=[1,3,4,6,2,7,9,10,15]\n",
    "sum = 0\n",
    "for i in range(0,len(A)):\n",
    "    sum +=  A[i]\n",
    "    \n",
    "print(\"\\t List : \",A)\n",
    "print(\"\\t The Sum Of All Value IN List A : \",sum)"
   ]
  },
  {
   "cell_type": "markdown",
   "id": "0b2481a7",
   "metadata": {},
   "source": [
    "# Task # 11"
   ]
  },
  {
   "cell_type": "markdown",
   "id": "b5be3c07",
   "metadata": {},
   "source": [
    "11.Write a Python program to get the largest number from a numeric list."
   ]
  },
  {
   "cell_type": "code",
   "execution_count": 54,
   "id": "c5e0f7ca",
   "metadata": {},
   "outputs": [
    {
     "name": "stdout",
     "output_type": "stream",
     "text": [
      "OUTPUT :\n",
      "\t List :   [1, 5, 6, 8, 35, 245, 67, 98, 65, 205, 100]\n",
      "\t The Largest Number In The List  245\n"
     ]
    }
   ],
   "source": [
    "print(\"OUTPUT :\")\n",
    "#CODE:\n",
    "A=[1,5,6,8,35,245,67,98,65,205,100]\n",
    "Large=A[0]\n",
    "for i in range(0,len(A)):\n",
    "    if(Large<A[i]):\n",
    "        Large=A[i]\n",
    "        \n",
    "print(\"\\t List :  \",A)\n",
    "print(\"\\t The Largest Number In The List \",Large)"
   ]
  },
  {
   "cell_type": "markdown",
   "id": "1313a65f",
   "metadata": {},
   "source": [
    "# Task # 12"
   ]
  },
  {
   "cell_type": "markdown",
   "id": "056b5acb",
   "metadata": {},
   "source": [
    "12. Take a list, say for example this one:\n"
   ]
  },
  {
   "cell_type": "markdown",
   "id": "27263018",
   "metadata": {},
   "source": [
    "a = [1, 1, 2, 3, 5, 8, 13, 21, 34, 55, 89]"
   ]
  },
  {
   "cell_type": "markdown",
   "id": "5d799902",
   "metadata": {},
   "source": [
    "Write a program that prints out all the elements of the list that are less than 5."
   ]
  },
  {
   "cell_type": "code",
   "execution_count": 57,
   "id": "d1b7f9d4",
   "metadata": {},
   "outputs": [
    {
     "name": "stdout",
     "output_type": "stream",
     "text": [
      "OUTPUT :\n",
      "\t List : [1, 1, 2, 3, 5, 8, 13, 21, 34, 55, 89]\n",
      "\t The Item Is Present in List A less than 5==> [1, 1, 2, 3]\n",
      "\t The Item Index that Is Present in List A less than 5==> [[0], [1], [2], [3]]\n"
     ]
    }
   ],
   "source": [
    "print(\"OUTPUT :\")\n",
    "#CODE:\n",
    "A = [1, 1, 2, 3, 5, 8, 13, 21, 34, 55, 89]\n",
    "S=[]\n",
    "L=[]\n",
    "for i in range(0,len(A)):\n",
    "    if(A[i]<5):\n",
    "        S.append(A[i])\n",
    "        L.append([i])\n",
    "print(\"\\t List :\",A)\n",
    "print(\"\\t The Item Is Present in List A less than 5==>\",S)\n",
    "print(\"\\t The Item Index that Is Present in List A less than 5==>\",L)"
   ]
  }
 ],
 "metadata": {
  "kernelspec": {
   "display_name": "Python 3",
   "language": "python",
   "name": "python3"
  },
  "language_info": {
   "codemirror_mode": {
    "name": "ipython",
    "version": 3
   },
   "file_extension": ".py",
   "mimetype": "text/x-python",
   "name": "python",
   "nbconvert_exporter": "python",
   "pygments_lexer": "ipython3",
   "version": "3.8.8"
  }
 },
 "nbformat": 4,
 "nbformat_minor": 5
}
